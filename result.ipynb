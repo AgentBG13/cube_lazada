{
 "cells": [
  {
   "cell_type": "code",
   "execution_count": 1,
   "metadata": {},
   "outputs": [],
   "source": [
    "import numpy as np\n",
    "import seaborn as sns\n",
    "import matplotlib.pyplot as plt\n",
    "import statsmodels.api as sm\n",
    "import pandas as pd\n",
    "import scraping"
   ]
  },
  {
   "cell_type": "code",
   "execution_count": 2,
   "metadata": {},
   "outputs": [],
   "source": [
    "# Get the data\n",
    "# train, to_predict = scraping.run()\n",
    "# For now, just use the data from the last run\n",
    "train = pd.read_csv('lazada.csv')\n",
    "to_predict = pd.read_csv('reviews.csv')"
   ]
  },
  {
   "cell_type": "markdown",
   "metadata": {},
   "source": [
    "*I choose Lazada platform for this exercise.\n"
   ]
  },
  {
   "cell_type": "markdown",
   "metadata": {},
   "source": [
    "After spending some time on the Lazada site, I realized that the \"number of sold\" metric represents the total sales since the product first became available, rather than a standardized measure like year-to-date (YTD) sales. Then, during my investigation, I identified a feature that tends to correlate with the number of units sold: the number of reviews. To analyze this further, I wrote a Python script to scrape data from the Lazada site for use in the analysis."
   ]
  },
  {
   "cell_type": "code",
   "execution_count": 3,
   "metadata": {},
   "outputs": [
    {
     "data": {
      "text/html": [
       "<div>\n",
       "<style scoped>\n",
       "    .dataframe tbody tr th:only-of-type {\n",
       "        vertical-align: middle;\n",
       "    }\n",
       "\n",
       "    .dataframe tbody tr th {\n",
       "        vertical-align: top;\n",
       "    }\n",
       "\n",
       "    .dataframe thead th {\n",
       "        text-align: right;\n",
       "    }\n",
       "</style>\n",
       "<table border=\"1\" class=\"dataframe\">\n",
       "  <thead>\n",
       "    <tr style=\"text-align: right;\">\n",
       "      <th></th>\n",
       "      <th>product</th>\n",
       "      <th>nmv</th>\n",
       "      <th>gmv</th>\n",
       "      <th>num_sold</th>\n",
       "      <th>num_reviews</th>\n",
       "    </tr>\n",
       "  </thead>\n",
       "  <tbody>\n",
       "    <tr>\n",
       "      <th>2</th>\n",
       "      <td>ESQA Flawless Powder Foundation</td>\n",
       "      <td>99.00</td>\n",
       "      <td>135.0</td>\n",
       "      <td>7900.0</td>\n",
       "      <td>2175</td>\n",
       "    </tr>\n",
       "    <tr>\n",
       "      <th>0</th>\n",
       "      <td>ESQA Flawless Liquid Concealer</td>\n",
       "      <td>90.00</td>\n",
       "      <td>120.0</td>\n",
       "      <td>7200.0</td>\n",
       "      <td>2141</td>\n",
       "    </tr>\n",
       "    <tr>\n",
       "      <th>7</th>\n",
       "      <td>ESQA Flawless Liquid Mini Concealer</td>\n",
       "      <td>46.55</td>\n",
       "      <td>49.0</td>\n",
       "      <td>6300.0</td>\n",
       "      <td>2136</td>\n",
       "    </tr>\n",
       "    <tr>\n",
       "      <th>1</th>\n",
       "      <td>[New] ESQA Flawless Cushion Serum SPF 50+ PA++...</td>\n",
       "      <td>160.00</td>\n",
       "      <td>208.0</td>\n",
       "      <td>4400.0</td>\n",
       "      <td>1262</td>\n",
       "    </tr>\n",
       "    <tr>\n",
       "      <th>8</th>\n",
       "      <td>ESQA Flawless Setting Powder</td>\n",
       "      <td>99.00</td>\n",
       "      <td>135.0</td>\n",
       "      <td>2700.0</td>\n",
       "      <td>793</td>\n",
       "    </tr>\n",
       "  </tbody>\n",
       "</table>\n",
       "</div>"
      ],
      "text/plain": [
       "                                             product     nmv    gmv  num_sold  \\\n",
       "2                    ESQA Flawless Powder Foundation   99.00  135.0    7900.0   \n",
       "0                     ESQA Flawless Liquid Concealer   90.00  120.0    7200.0   \n",
       "7                ESQA Flawless Liquid Mini Concealer   46.55   49.0    6300.0   \n",
       "1  [New] ESQA Flawless Cushion Serum SPF 50+ PA++...  160.00  208.0    4400.0   \n",
       "8                       ESQA Flawless Setting Powder   99.00  135.0    2700.0   \n",
       "\n",
       "   num_reviews  \n",
       "2         2175  \n",
       "0         2141  \n",
       "7         2136  \n",
       "1         1262  \n",
       "8          793  "
      ]
     },
     "execution_count": 3,
     "metadata": {},
     "output_type": "execute_result"
    }
   ],
   "source": [
    "train.nlargest(5, 'num_sold')"
   ]
  },
  {
   "cell_type": "markdown",
   "metadata": {},
   "source": [
    "Here's the structure of the dataset\n",
    "\n",
    "| Column        | Description                    |\n",
    "|---------------|--------------------------------|\n",
    "| product       | Name or description of product |\n",
    "| nmv           | Net Merchandise Value (Shown as a slash price)         |\n",
    "| gmv           | Gross Merchandise Value (Shown as a full price)       |\n",
    "| num_sold      | Number of units sold           |\n",
    "| num_reviews   | Number of reviews              |\n"
   ]
  },
  {
   "cell_type": "markdown",
   "metadata": {},
   "source": [
    "Since the \"number of sold\" metric represents total sales from the time the product first became available, building a model where \"number of reviews\" is regressed onto \"number of sold\" would reflect cumulative sales over the entire period. To find a sales only on year-to-date (YTD), we need the \"number of reviews\" from the beginning of the year onward. Fortunately, this data can also be scraped from the Lazada site.\n"
   ]
  },
  {
   "cell_type": "code",
   "execution_count": 4,
   "metadata": {},
   "outputs": [
    {
     "data": {
      "text/html": [
       "<div>\n",
       "<style scoped>\n",
       "    .dataframe tbody tr th:only-of-type {\n",
       "        vertical-align: middle;\n",
       "    }\n",
       "\n",
       "    .dataframe tbody tr th {\n",
       "        vertical-align: top;\n",
       "    }\n",
       "\n",
       "    .dataframe thead th {\n",
       "        text-align: right;\n",
       "    }\n",
       "</style>\n",
       "<table border=\"1\" class=\"dataframe\">\n",
       "  <thead>\n",
       "    <tr style=\"text-align: right;\">\n",
       "      <th></th>\n",
       "      <th>name</th>\n",
       "      <th>review_dates</th>\n",
       "      <th>review_authors</th>\n",
       "    </tr>\n",
       "  </thead>\n",
       "  <tbody>\n",
       "    <tr>\n",
       "      <th>0</th>\n",
       "      <td>ESQA Flawless Powder Foundation</td>\n",
       "      <td>12 jam lalu</td>\n",
       "      <td>8***7</td>\n",
       "    </tr>\n",
       "    <tr>\n",
       "      <th>1</th>\n",
       "      <td>ESQA Flawless Powder Foundation</td>\n",
       "      <td>3 hari lalu</td>\n",
       "      <td>Feni</td>\n",
       "    </tr>\n",
       "    <tr>\n",
       "      <th>2</th>\n",
       "      <td>ESQA Flawless Powder Foundation</td>\n",
       "      <td>1 minggu lalu</td>\n",
       "      <td>Reza A.</td>\n",
       "    </tr>\n",
       "    <tr>\n",
       "      <th>3</th>\n",
       "      <td>ESQA Flawless Powder Foundation</td>\n",
       "      <td>1 minggu lalu</td>\n",
       "      <td>I***.</td>\n",
       "    </tr>\n",
       "    <tr>\n",
       "      <th>4</th>\n",
       "      <td>ESQA Flawless Powder Foundation</td>\n",
       "      <td>1 minggu lalu</td>\n",
       "      <td>Bintang I.</td>\n",
       "    </tr>\n",
       "  </tbody>\n",
       "</table>\n",
       "</div>"
      ],
      "text/plain": [
       "                              name   review_dates review_authors\n",
       "0  ESQA Flawless Powder Foundation    12 jam lalu          8***7\n",
       "1  ESQA Flawless Powder Foundation    3 hari lalu           Feni\n",
       "2  ESQA Flawless Powder Foundation  1 minggu lalu        Reza A.\n",
       "3  ESQA Flawless Powder Foundation  1 minggu lalu          I***.\n",
       "4  ESQA Flawless Powder Foundation  1 minggu lalu     Bintang I."
      ]
     },
     "execution_count": 4,
     "metadata": {},
     "output_type": "execute_result"
    }
   ],
   "source": [
    "to_predict.head()"
   ]
  },
  {
   "cell_type": "markdown",
   "metadata": {},
   "source": [
    "The dataset construct of top selling 5 products on the store (based on # of unit sold) and their review_dates and review_authors"
   ]
  },
  {
   "cell_type": "code",
   "execution_count": 5,
   "metadata": {},
   "outputs": [
    {
     "name": "stdout",
     "output_type": "stream",
     "text": [
      "<class 'pandas.core.frame.DataFrame'>\n",
      "RangeIndex: 1750 entries, 0 to 1749\n",
      "Data columns (total 3 columns):\n",
      " #   Column          Non-Null Count  Dtype \n",
      "---  ------          --------------  ----- \n",
      " 0   name            1750 non-null   object\n",
      " 1   review_dates    1750 non-null   object\n",
      " 2   review_authors  1750 non-null   object\n",
      "dtypes: object(3)\n",
      "memory usage: 41.1+ KB\n"
     ]
    }
   ],
   "source": [
    "to_predict.info()"
   ]
  },
  {
   "cell_type": "code",
   "execution_count": 6,
   "metadata": {},
   "outputs": [
    {
     "data": {
      "text/html": [
       "<div>\n",
       "<style scoped>\n",
       "    .dataframe tbody tr th:only-of-type {\n",
       "        vertical-align: middle;\n",
       "    }\n",
       "\n",
       "    .dataframe tbody tr th {\n",
       "        vertical-align: top;\n",
       "    }\n",
       "\n",
       "    .dataframe thead th {\n",
       "        text-align: right;\n",
       "    }\n",
       "</style>\n",
       "<table border=\"1\" class=\"dataframe\">\n",
       "  <thead>\n",
       "    <tr style=\"text-align: right;\">\n",
       "      <th></th>\n",
       "      <th>name</th>\n",
       "      <th>num_reviews_ytd</th>\n",
       "    </tr>\n",
       "  </thead>\n",
       "  <tbody>\n",
       "    <tr>\n",
       "      <th>0</th>\n",
       "      <td>ESQA Flawless Liquid Concealer</td>\n",
       "      <td>521</td>\n",
       "    </tr>\n",
       "    <tr>\n",
       "      <th>1</th>\n",
       "      <td>ESQA Flawless Liquid Mini Concealer</td>\n",
       "      <td>473</td>\n",
       "    </tr>\n",
       "    <tr>\n",
       "      <th>2</th>\n",
       "      <td>ESQA Flawless Powder Foundation</td>\n",
       "      <td>371</td>\n",
       "    </tr>\n",
       "    <tr>\n",
       "      <th>3</th>\n",
       "      <td>ESQA Flawless Setting Powder</td>\n",
       "      <td>111</td>\n",
       "    </tr>\n",
       "    <tr>\n",
       "      <th>4</th>\n",
       "      <td>[New] ESQA Flawless Cushion Serum SPF 50+ PA++...</td>\n",
       "      <td>274</td>\n",
       "    </tr>\n",
       "  </tbody>\n",
       "</table>\n",
       "</div>"
      ],
      "text/plain": [
       "                                                name  num_reviews_ytd\n",
       "0                     ESQA Flawless Liquid Concealer              521\n",
       "1                ESQA Flawless Liquid Mini Concealer              473\n",
       "2                    ESQA Flawless Powder Foundation              371\n",
       "3                       ESQA Flawless Setting Powder              111\n",
       "4  [New] ESQA Flawless Cushion Serum SPF 50+ PA++...              274"
      ]
     },
     "execution_count": 6,
     "metadata": {},
     "output_type": "execute_result"
    }
   ],
   "source": [
    "# Convert this dataset to count the number of reviews ytd\n",
    "ytd_reviews = to_predict.groupby('name')['review_dates'].count().reset_index()\n",
    "ytd_reviews.columns = ['name', 'num_reviews_ytd']\n",
    "ytd_reviews.head()"
   ]
  },
  {
   "cell_type": "markdown",
   "metadata": {},
   "source": [
    "Now, let's do some EDAs to uncover some insights."
   ]
  },
  {
   "cell_type": "code",
   "execution_count": 7,
   "metadata": {},
   "outputs": [],
   "source": [
    "%matplotlib inline"
   ]
  },
  {
   "cell_type": "code",
   "execution_count": 8,
   "metadata": {},
   "outputs": [
    {
     "data": {
      "image/png": "[encoded data removed]",
      "text/plain": [
       "<Figure size 640x480 with 2 Axes>"
      ]
     },
     "metadata": {},
     "output_type": "display_data"
    }
   ],
   "source": [
    "# Plot the number of reviews ytd\n",
    "train[['num_sold', 'num_reviews']].hist();"
   ]
  },
  {
   "cell_type": "code",
   "execution_count": 9,
   "metadata": {},
   "outputs": [
    {
     "data": {
      "text/html": [
       "<div>\n",
       "<style scoped>\n",
       "    .dataframe tbody tr th:only-of-type {\n",
       "        vertical-align: middle;\n",
       "    }\n",
       "\n",
       "    .dataframe tbody tr th {\n",
       "        vertical-align: top;\n",
       "    }\n",
       "\n",
       "    .dataframe thead th {\n",
       "        text-align: right;\n",
       "    }\n",
       "</style>\n",
       "<table border=\"1\" class=\"dataframe\">\n",
       "  <thead>\n",
       "    <tr style=\"text-align: right;\">\n",
       "      <th></th>\n",
       "      <th>num_sold</th>\n",
       "      <th>num_reviews</th>\n",
       "    </tr>\n",
       "  </thead>\n",
       "  <tbody>\n",
       "    <tr>\n",
       "      <th>num_sold</th>\n",
       "      <td>1.000000</td>\n",
       "      <td>0.994831</td>\n",
       "    </tr>\n",
       "    <tr>\n",
       "      <th>num_reviews</th>\n",
       "      <td>0.994831</td>\n",
       "      <td>1.000000</td>\n",
       "    </tr>\n",
       "  </tbody>\n",
       "</table>\n",
       "</div>"
      ],
      "text/plain": [
       "             num_sold  num_reviews\n",
       "num_sold     1.000000     0.994831\n",
       "num_reviews  0.994831     1.000000"
      ]
     },
     "execution_count": 9,
     "metadata": {},
     "output_type": "execute_result"
    }
   ],
   "source": [
    "# Very high correlation between the number of reviews and the number of items sold\n",
    "train[['num_sold', 'num_reviews']].corr()"
   ]
  },
  {
   "cell_type": "code",
   "execution_count": 10,
   "metadata": {},
   "outputs": [
    {
     "data": {
      "image/png": "[encoded data removed]",
      "text/plain": [
       "<Figure size 640x480 with 1 Axes>"
      ]
     },
     "metadata": {},
     "output_type": "display_data"
    }
   ],
   "source": [
    "# Let's plot the relationship between the number of reviews and the number of items sold\n",
    "sns.regplot(data=train, y='num_sold', x='num_reviews');"
   ]
  },
  {
   "cell_type": "markdown",
   "metadata": {},
   "source": [
    "Let's discuss hypothesis for this model.\n",
    "#### Hypothesis\n",
    "1. A consistent fraction of buyers leave reviews, enabling the use of reviews as a reliable proxy for estimating sales.\n",
    "2. Individuals who leave reviews may be influenced by self-selection bias. However, for the purposes of this analysis, we will treat these reviewers as representative of the overall population. This assumption relies on the idea that reviewers are uniformly and randomly distributed, potentially due to factors like incentives (e.g., Lazada offering reward coins for submitting a review).\n",
    "3. From the graph, the relationship between reviews and sales is linear or can be approximated using regression analysis.\n",
    "4. Year-to-date (YTD) sales can be estimated by isolating reviews from the beginning of the year and applying the established review-to-sale ratio.\n",
    "5. As shown in the graph, there may be issues with heteroscedasticity (non-constant variability across the range) or high-leverage points (which are of particular interest). However, due to the limited data available in these high-value regions, we will, for the sake of simplicity, disregard these issues in this analysis."
   ]
  },
  {
   "cell_type": "markdown",
   "metadata": {},
   "source": [
    "#### Modeling: Linear regression"
   ]
  },
  {
   "cell_type": "code",
   "execution_count": 11,
   "metadata": {},
   "outputs": [],
   "source": [
    "# First discard the low number of reviews, as they can be noisy\n",
    "train = train[train['num_reviews'] > 10]"
   ]
  },
  {
   "cell_type": "code",
   "execution_count": 12,
   "metadata": {},
   "outputs": [],
   "source": [
    "y = train['num_sold'].values\n",
    "X = train['num_reviews'].values\n",
    "X = sm.add_constant(X)\n",
    "model = sm.OLS(y, X).fit()"
   ]
  },
  {
   "cell_type": "code",
   "execution_count": 13,
   "metadata": {},
   "outputs": [
    {
     "name": "stdout",
     "output_type": "stream",
     "text": [
      "                            OLS Regression Results                            \n",
      "==============================================================================\n",
      "Dep. Variable:                      y   R-squared:                       0.989\n",
      "Model:                            OLS   Adj. R-squared:                  0.989\n",
      "Method:                 Least Squares   F-statistic:                     3179.\n",
      "Date:                Tue, 26 Nov 2024   Prob (F-statistic):           3.58e-35\n",
      "Time:                        23:22:36   Log-Likelihood:                -242.15\n",
      "No. Observations:                  36   AIC:                             488.3\n",
      "Df Residuals:                      34   BIC:                             491.5\n",
      "Df Model:                           1                                         \n",
      "Covariance Type:            nonrobust                                         \n",
      "==============================================================================\n",
      "                 coef    std err          t      P>|t|      [0.025      0.975]\n",
      "------------------------------------------------------------------------------\n",
      "const          5.8287     42.636      0.137      0.892     -80.818      92.475\n",
      "x1             3.3470      0.059     56.379      0.000       3.226       3.468\n",
      "==============================================================================\n",
      "Omnibus:                       27.776   Durbin-Watson:                   1.905\n",
      "Prob(Omnibus):                  0.000   Jarque-Bera (JB):              122.261\n",
      "Skew:                          -1.372   Prob(JB):                     2.83e-27\n",
      "Kurtosis:                      11.601   Cond. No.                         885.\n",
      "==============================================================================\n",
      "\n",
      "Notes:\n",
      "[1] Standard Errors assume that the covariance matrix of the errors is correctly specified.\n"
     ]
    }
   ],
   "source": [
    "print(model.summary())"
   ]
  },
  {
   "cell_type": "markdown",
   "metadata": {},
   "source": [
    "Analysis\n",
    "- R-squared: 0.989 =>\n",
    "The model explains 98.9% of the variability in the dependent variable, indicating a very strong fit.\n",
    "- Intercept (const): 5.8287 =>\n",
    "This estimate is not statistically significant (p=.892), It can be confirmed with the regression line as It nearly pass the origin.\n",
    "- x1: 3.3470 =>\n",
    "This coefficient is highly significant (p<.001), with a 95% confidence interval of [3.177, 3.503]."
   ]
  },
  {
   "cell_type": "code",
   "execution_count": 14,
   "metadata": {},
   "outputs": [
    {
     "data": {
      "image/png": "[encoded data removed]",
      "text/plain": [
       "<Figure size 640x480 with 1 Axes>"
      ]
     },
     "metadata": {},
     "output_type": "display_data"
    }
   ],
   "source": [
    "# Plot the ordinary least squares regression line\n",
    "plt.scatter(X[:, 1], y, label=\"Data\")\n",
    "plt.plot(X[:, 1], model.predict(X), color='red', label=\"Regression Line\")\n",
    "\n",
    "# Add confidence intervals to the plot\n",
    "pred = model.get_prediction(X)\n",
    "ci = pred.conf_int(alpha=0.05)\n",
    "plt.fill_between(X[:, 1], ci[:, 0], ci[:, 1], color='red', alpha=0.2, label=\"95% CI\")\n",
    "\n",
    "plt.xlabel(\"X\")\n",
    "plt.ylabel(\"y\")\n",
    "plt.legend()\n",
    "plt.title(\"Linear Regression with Confidence Intervals\")\n",
    "plt.show()"
   ]
  },
  {
   "cell_type": "markdown",
   "metadata": {},
   "source": [
    "As you can see, It may violate homoscedasticity."
   ]
  },
  {
   "cell_type": "markdown",
   "metadata": {},
   "source": [
    "#### Predicting 2024 YTD Sales for Best-Selling 5 Products"
   ]
  },
  {
   "cell_type": "code",
   "execution_count": 15,
   "metadata": {},
   "outputs": [
    {
     "data": {
      "text/html": [
       "<div>\n",
       "<style scoped>\n",
       "    .dataframe tbody tr th:only-of-type {\n",
       "        vertical-align: middle;\n",
       "    }\n",
       "\n",
       "    .dataframe tbody tr th {\n",
       "        vertical-align: top;\n",
       "    }\n",
       "\n",
       "    .dataframe thead th {\n",
       "        text-align: right;\n",
       "    }\n",
       "</style>\n",
       "<table border=\"1\" class=\"dataframe\">\n",
       "  <thead>\n",
       "    <tr style=\"text-align: right;\">\n",
       "      <th></th>\n",
       "      <th>name</th>\n",
       "      <th>num_reviews_ytd</th>\n",
       "    </tr>\n",
       "  </thead>\n",
       "  <tbody>\n",
       "    <tr>\n",
       "      <th>0</th>\n",
       "      <td>ESQA Flawless Liquid Concealer</td>\n",
       "      <td>521</td>\n",
       "    </tr>\n",
       "    <tr>\n",
       "      <th>1</th>\n",
       "      <td>ESQA Flawless Liquid Mini Concealer</td>\n",
       "      <td>473</td>\n",
       "    </tr>\n",
       "    <tr>\n",
       "      <th>2</th>\n",
       "      <td>ESQA Flawless Powder Foundation</td>\n",
       "      <td>371</td>\n",
       "    </tr>\n",
       "    <tr>\n",
       "      <th>3</th>\n",
       "      <td>ESQA Flawless Setting Powder</td>\n",
       "      <td>111</td>\n",
       "    </tr>\n",
       "    <tr>\n",
       "      <th>4</th>\n",
       "      <td>[New] ESQA Flawless Cushion Serum SPF 50+ PA++...</td>\n",
       "      <td>274</td>\n",
       "    </tr>\n",
       "  </tbody>\n",
       "</table>\n",
       "</div>"
      ],
      "text/plain": [
       "                                                name  num_reviews_ytd\n",
       "0                     ESQA Flawless Liquid Concealer              521\n",
       "1                ESQA Flawless Liquid Mini Concealer              473\n",
       "2                    ESQA Flawless Powder Foundation              371\n",
       "3                       ESQA Flawless Setting Powder              111\n",
       "4  [New] ESQA Flawless Cushion Serum SPF 50+ PA++...              274"
      ]
     },
     "execution_count": 15,
     "metadata": {},
     "output_type": "execute_result"
    }
   ],
   "source": [
    "ytd_reviews.head()"
   ]
  },
  {
   "cell_type": "code",
   "execution_count": 16,
   "metadata": {},
   "outputs": [],
   "source": [
    "X_test = ytd_reviews['num_reviews_ytd'].values"
   ]
  },
  {
   "cell_type": "code",
   "execution_count": 17,
   "metadata": {},
   "outputs": [],
   "source": [
    "X_test = sm.add_constant(X_test)\n",
    "pred = model.predict(X_test)\n",
    "prediction = model.get_prediction(X_test)\n",
    "\n",
    "# Extract confidence intervals\n",
    "confidence_intervals = prediction.conf_int()\n"
   ]
  },
  {
   "cell_type": "code",
   "execution_count": 18,
   "metadata": {},
   "outputs": [
    {
     "name": "stdout",
     "output_type": "stream",
     "text": [
      "Confidence Intervals:\n",
      "[[1678.21325199 1821.00527996]\n",
      " [1518.32112466 1659.58659974]\n",
      " [1176.98271167 1318.13954668]\n",
      " [ 297.77239865  456.91631881]\n",
      " [ 850.41210948  995.39455862]]\n"
     ]
    }
   ],
   "source": [
    "print(\"Confidence Intervals:\")\n",
    "print(confidence_intervals)"
   ]
  },
  {
   "cell_type": "code",
   "execution_count": 19,
   "metadata": {},
   "outputs": [],
   "source": [
    "ytd_reviews['unit'] = (confidence_intervals[:, 0] + confidence_intervals[:, 1]) / 2\n",
    "ytd_reviews['lower_bound_unit'] = confidence_intervals[:, 0]\n",
    "ytd_reviews['upper_bound_unit'] = confidence_intervals[:, 1]\n",
    "ytd_reviews = ytd_reviews.merge(train[['product', 'gmv']], left_on='name', right_on='product', how='left').drop(columns=['product'])\n",
    "ytd_reviews['sales'] = ytd_reviews['unit'] * ytd_reviews['gmv']\n",
    "ytd_reviews['lower_bound_sales'] = ytd_reviews['lower_bound_unit'] * ytd_reviews['gmv']\n",
    "ytd_reviews['upper_bound_sales'] = ytd_reviews['upper_bound_unit'] * ytd_reviews['gmv']\n",
    "ytd_reviews['confidence_range (Q)'] = ytd_reviews['lower_bound_unit'].round(2).astype(str) + ' - ' + ytd_reviews['upper_bound_unit'].round(2).astype(str)\n",
    "ytd_reviews['confidence_range (RP)'] = ytd_reviews['lower_bound_sales'].round(2).astype(str) + ' - ' + ytd_reviews['upper_bound_sales'].round(2).astype(str)"
   ]
  },
  {
   "cell_type": "code",
   "execution_count": 20,
   "metadata": {},
   "outputs": [],
   "source": [
    "to_use = ytd_reviews[['name', 'num_reviews_ytd', 'unit', 'confidence_range (Q)', 'gmv', 'sales', 'confidence_range (RP)']]"
   ]
  },
  {
   "cell_type": "code",
   "execution_count": 21,
   "metadata": {},
   "outputs": [
    {
     "name": "stderr",
     "output_type": "stream",
     "text": [
      "/tmp/ipykernel_79580/4217947982.py:1: SettingWithCopyWarning: \n",
      "A value is trying to be set on a copy of a slice from a DataFrame.\n",
      "Try using .loc[row_indexer,col_indexer] = value instead\n",
      "\n",
      "See the caveats in the documentation: https://pandas.pydata.org/pandas-docs/stable/user_guide/indexing.html#returning-a-view-versus-a-copy\n",
      "  to_use['unit'] = to_use['unit'].round(2)\n",
      "/tmp/ipykernel_79580/4217947982.py:2: SettingWithCopyWarning: \n",
      "A value is trying to be set on a copy of a slice from a DataFrame.\n",
      "Try using .loc[row_indexer,col_indexer] = value instead\n",
      "\n",
      "See the caveats in the documentation: https://pandas.pydata.org/pandas-docs/stable/user_guide/indexing.html#returning-a-view-versus-a-copy\n",
      "  to_use['sales'] = to_use['sales'].round(2)\n"
     ]
    }
   ],
   "source": [
    "to_use['unit'] = to_use['unit'].round(2)\n",
    "to_use['sales'] = to_use['sales'].round(2)"
   ]
  },
  {
   "cell_type": "code",
   "execution_count": 22,
   "metadata": {},
   "outputs": [],
   "source": [
    "to_use.columns = ['Product', 'Number of Reviews YTD', 'Units Sold', 'Confidence Range (Units)', 'Price Per Unit (Gross)(RP)', \n",
    "                  'Estimated Revenue YTD (RP)', 'Confidence Range (RP)']"
   ]
  },
  {
   "cell_type": "code",
   "execution_count": 23,
   "metadata": {},
   "outputs": [
    {
     "data": {
      "text/html": [
       "<div>\n",
       "<style scoped>\n",
       "    .dataframe tbody tr th:only-of-type {\n",
       "        vertical-align: middle;\n",
       "    }\n",
       "\n",
       "    .dataframe tbody tr th {\n",
       "        vertical-align: top;\n",
       "    }\n",
       "\n",
       "    .dataframe thead th {\n",
       "        text-align: right;\n",
       "    }\n",
       "</style>\n",
       "<table border=\"1\" class=\"dataframe\">\n",
       "  <thead>\n",
       "    <tr style=\"text-align: right;\">\n",
       "      <th></th>\n",
       "      <th>Product</th>\n",
       "      <th>Number of Reviews YTD</th>\n",
       "      <th>Units Sold</th>\n",
       "      <th>Confidence Range (Units)</th>\n",
       "      <th>Price Per Unit (Gross)(RP)</th>\n",
       "      <th>Estimated Revenue YTD (RP)</th>\n",
       "      <th>Confidence Range (RP)</th>\n",
       "    </tr>\n",
       "  </thead>\n",
       "  <tbody>\n",
       "    <tr>\n",
       "      <th>0</th>\n",
       "      <td>ESQA Flawless Liquid Concealer</td>\n",
       "      <td>521</td>\n",
       "      <td>1749.61</td>\n",
       "      <td>1678.21 - 1821.01</td>\n",
       "      <td>120.0</td>\n",
       "      <td>209953.11</td>\n",
       "      <td>201385.59 - 218520.63</td>\n",
       "    </tr>\n",
       "    <tr>\n",
       "      <th>1</th>\n",
       "      <td>ESQA Flawless Liquid Mini Concealer</td>\n",
       "      <td>473</td>\n",
       "      <td>1588.95</td>\n",
       "      <td>1518.32 - 1659.59</td>\n",
       "      <td>49.0</td>\n",
       "      <td>77858.74</td>\n",
       "      <td>74397.74 - 81319.74</td>\n",
       "    </tr>\n",
       "    <tr>\n",
       "      <th>2</th>\n",
       "      <td>ESQA Flawless Powder Foundation</td>\n",
       "      <td>371</td>\n",
       "      <td>1247.56</td>\n",
       "      <td>1176.98 - 1318.14</td>\n",
       "      <td>135.0</td>\n",
       "      <td>168420.75</td>\n",
       "      <td>158892.67 - 177948.84</td>\n",
       "    </tr>\n",
       "    <tr>\n",
       "      <th>3</th>\n",
       "      <td>ESQA Flawless Setting Powder</td>\n",
       "      <td>111</td>\n",
       "      <td>377.34</td>\n",
       "      <td>297.77 - 456.92</td>\n",
       "      <td>135.0</td>\n",
       "      <td>50941.49</td>\n",
       "      <td>40199.27 - 61683.7</td>\n",
       "    </tr>\n",
       "    <tr>\n",
       "      <th>4</th>\n",
       "      <td>[New] ESQA Flawless Cushion Serum SPF 50+ PA++...</td>\n",
       "      <td>274</td>\n",
       "      <td>922.90</td>\n",
       "      <td>850.41 - 995.39</td>\n",
       "      <td>208.0</td>\n",
       "      <td>191963.89</td>\n",
       "      <td>176885.72 - 207042.07</td>\n",
       "    </tr>\n",
       "  </tbody>\n",
       "</table>\n",
       "</div>"
      ],
      "text/plain": [
       "                                             Product  Number of Reviews YTD  \\\n",
       "0                     ESQA Flawless Liquid Concealer                    521   \n",
       "1                ESQA Flawless Liquid Mini Concealer                    473   \n",
       "2                    ESQA Flawless Powder Foundation                    371   \n",
       "3                       ESQA Flawless Setting Powder                    111   \n",
       "4  [New] ESQA Flawless Cushion Serum SPF 50+ PA++...                    274   \n",
       "\n",
       "   Units Sold Confidence Range (Units)  Price Per Unit (Gross)(RP)  \\\n",
       "0     1749.61        1678.21 - 1821.01                       120.0   \n",
       "1     1588.95        1518.32 - 1659.59                        49.0   \n",
       "2     1247.56        1176.98 - 1318.14                       135.0   \n",
       "3      377.34          297.77 - 456.92                       135.0   \n",
       "4      922.90          850.41 - 995.39                       208.0   \n",
       "\n",
       "   Estimated Revenue YTD (RP)  Confidence Range (RP)  \n",
       "0                   209953.11  201385.59 - 218520.63  \n",
       "1                    77858.74    74397.74 - 81319.74  \n",
       "2                   168420.75  158892.67 - 177948.84  \n",
       "3                    50941.49     40199.27 - 61683.7  \n",
       "4                   191963.89  176885.72 - 207042.07  "
      ]
     },
     "execution_count": 23,
     "metadata": {},
     "output_type": "execute_result"
    }
   ],
   "source": [
    "to_use"
   ]
  },
  {
   "cell_type": "code",
   "execution_count": 24,
   "metadata": {},
   "outputs": [],
   "source": [
    "# Save the results to a csv file\n",
    "to_use.to_csv('predictions_ytd_sales.csv', index=False)"
   ]
  },
  {
   "cell_type": "markdown",
   "metadata": {},
   "source": [
    "#### Further Improvements\n",
    "1. Consider finding another store within the same industry that shares a similar sales pattern to better estimate data in regions with high leverage points.\n",
    "2. If we can scrape Lazada data beyond 200 pages, we could construct time-series features to capture patterns linked to specific dates, such as festivals (e.g., 9.9, 10.10). This would improve the use of dates as proxies for estimating sales more accurately.\n",
    "3. Consider using \"OLSResults.get_robustcov_results\" to combat with heteroscedasticity."
   ]
  }
 ],
 "metadata": {
  "kernelspec": {
   "display_name": "Python 3 (ipykernel)",
   "language": "python",
   "name": "python3"
  },
  "language_info": {
   "codemirror_mode": {
    "name": "ipython",
    "version": 3
   },
   "file_extension": ".py",
   "mimetype": "text/x-python",
   "name": "python",
   "nbconvert_exporter": "python",
   "pygments_lexer": "ipython3",
   "version": "3.10.15"
  }
 },
 "nbformat": 4,
 "nbformat_minor": 4
}
